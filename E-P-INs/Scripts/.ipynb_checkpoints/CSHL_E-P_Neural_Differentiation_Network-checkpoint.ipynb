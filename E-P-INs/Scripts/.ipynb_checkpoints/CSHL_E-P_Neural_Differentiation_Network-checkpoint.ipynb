{
 "cells": [
  {
   "cell_type": "code",
   "execution_count": null,
   "id": "1a6bbe2d",
   "metadata": {},
   "outputs": [],
   "source": [
    "# Matrix Manipulation/Management Libraries\n",
    "import pandas as pd\n",
    "\n",
    "# Data Visualization Libaries\n",
    "import seaborn as sns\n",
    "import matplotlib.pyplot as plt\n",
    "\n",
    "# Input/Output Libraries\n",
    "import os\n",
    "\n",
    "# Bioinformatics Libraries\n",
    "import pybedtools\n",
    "\n",
    "# Statistical Tests, Machine Learning, etc. Libraries\n",
    "import igraph\n",
    "\n",
    "# Miscellaneous Libraries \n",
    "import random\n",
    "import time"
   ]
  },
  {
   "cell_type": "code",
   "execution_count": null,
   "id": "6650c5e8",
   "metadata": {},
   "outputs": [],
   "source": [
    "# Function: Process Activity-By-Contact Model Data \n",
    "\n",
    "def read_samples(file: str, sample_info: str):\n",
    "    cols =  ['Chrom', 'Start', 'End', 'TSS_Chrom', 'TSS_Start', 'TSS_End', 'Gene', 'Score', 'Strand_1', 'Strand_2']\n",
    "    sample = pd.read_csv(file, sep= '\\t', header = None, names = cols)\n",
    "    sample = sample.drop(['TSS_Chrom', 'TSS_Start', 'TSS_End', 'Score', 'Strand_1', 'Strand_2'], axis = 1) \n",
    "    sample['Gene'] = sample['Gene'].str.split('_').str[0]\n",
    "    sample['Sample'] = sample_info\n",
    "    \n",
    "    return sample"
   ]
  },
  {
   "cell_type": "code",
   "execution_count": null,
   "id": "77cbadf2",
   "metadata": {},
   "outputs": [],
   "source": [
    "# Function: Combine Modules (Enhancers) within n BPs, Maintain Column-Specific (Gene, Sample,etc.) Information\n",
    "\n",
    "def combine_modules(modules, distance: int, column_header: str):\n",
    "    modules = modules.sort_values(by=[\"Start\"])\n",
    "    merged = []\n",
    "    current_start = modules.iloc[0][\"Start\"]\n",
    "    current_end = modules.iloc[0][\"End\"]\n",
    "    chromosome = modules.iloc[0][\"Chrom\"]\n",
    "    column_information = set([modules.iloc[0][column_header]])\n",
    "    for i in range(1, len(modules)):\n",
    "        if modules.iloc[i][\"Chrom\"] != chromosome:\n",
    "            merged.append([chromosome, current_start, current_end, list(column_information)])\n",
    "            current_start = modules.iloc[i][\"Start\"]\n",
    "            current_end = modules.iloc[i][\"End\"]\n",
    "            chromosome = modules.iloc[i][\"Chrom\"]\n",
    "            column_information = set([modules.iloc[i][column_header]])\n",
    "        elif modules.iloc[i][\"Start\"] - current_end <= distance:\n",
    "            current_end = modules.iloc[i][\"End\"]\n",
    "            column_information.add(modules.iloc[i][column_header])\n",
    "        else:\n",
    "            merged.append([chromosome, current_start, current_end, list(column_information)])\n",
    "            current_start = modules.iloc[i][\"Start\"]\n",
    "            current_end = modules.iloc[i][\"End\"]\n",
    "            column_information = set([modules.iloc[i][column_header]])\n",
    "    merged.append([chromosome, current_start, current_end, list(column_information)]) \n",
    "    \n",
    "    return pd.DataFrame(merged, columns = [\"Chrom\", \"Start\", \"End\", column_header])"
   ]
  },
  {
   "cell_type": "code",
   "execution_count": null,
   "id": "5f7ecbad",
   "metadata": {},
   "outputs": [],
   "source": [
    "# Load Activity-By-Contact Model Samples\n",
    "\n",
    "file_list = ['0h_sample', '3h_sample', '6h_sample', '12h_sample', '24h_sample', '48h_sample', '72h_sample']\n",
    "file_dir = '/projectsp/f_ak1833_1/Ziyuan/abc_analysis_organized/further_analysis/'\n",
    "\n",
    "samples = []\n",
    "\n",
    "for file_name in file_list: \n",
    "    file_path = file_dir + file_name + '.bedpe'\n",
    "    sample = read_samples(file_path, file_name)\n",
    "    samples.append(sample)\n",
    "    \n",
    "uncollapsed_module_regions = pd.concat(samples)"
   ]
  },
  {
   "cell_type": "code",
   "execution_count": null,
   "id": "ae0ef00b",
   "metadata": {},
   "outputs": [],
   "source": [
    "# Collapse Modules (Enhancers) within 100 BPs\n",
    "\n",
    "module_regions_genes = combine_modules(uncollapsed_module_regions, 100, \"Gene\")\n",
    "module_regions_samples = combine_modules(uncollapsed_module_regions, 100, \"Sample\")"
   ]
  },
  {
   "cell_type": "code",
   "execution_count": null,
   "id": "44db0086",
   "metadata": {},
   "outputs": [],
   "source": [
    "# Combine Module (Enhancers) Sequences, Target Genes, Samples\n",
    "\n",
    "module_regions_unlabeled = module_regions_samples.merge(module_regions_genes, on=[\"Chrom\",\"Start\", 'End'])\n",
    "module_regions_unlabeled = module_regions_unlabeled.explode('Gene')\n",
    "module_regions_unlabeled = module_regions_unlabeled.explode('Sample')\n",
    "module_regions_unlabeled = module_regions_unlabeled.drop_duplicates()"
   ]
  },
  {
   "cell_type": "code",
   "execution_count": null,
   "id": "7465c268",
   "metadata": {},
   "outputs": [],
   "source": [
    "modules_labeled = modules_regions_unlabeled\n",
    "modules_labeled['Module'] = 'Module_' + modules_labeled.groupby(['Chrom', 'Start', 'End']).ngroup().add(1).astype(str)"
   ]
  },
  {
   "cell_type": "code",
   "execution_count": null,
   "id": "2dd5b8a9",
   "metadata": {},
   "outputs": [],
   "source": []
  }
 ],
 "metadata": {
  "kernelspec": {
   "display_name": "Python 3 (ipykernel)",
   "language": "python",
   "name": "python3"
  },
  "language_info": {
   "codemirror_mode": {
    "name": "ipython",
    "version": 3
   },
   "file_extension": ".py",
   "mimetype": "text/x-python",
   "name": "python",
   "nbconvert_exporter": "python",
   "pygments_lexer": "ipython3",
   "version": "3.10.9"
  }
 },
 "nbformat": 4,
 "nbformat_minor": 5
}
