{
 "cells": [
  {
   "cell_type": "code",
   "execution_count": null,
   "metadata": {},
   "outputs": [],
   "source": [
    "# Matrix Manipulation and Data Visualization Libraries\n",
    "import pandas as pd\n",
    "\n",
    "# Input/Output Libraries\n",
    "import os"
   ]
  },
  {
   "cell_type": "code",
   "execution_count": null,
   "metadata": {},
   "outputs": [],
   "source": [
    "def read_samples(file_path: str, sample_info: str):\n",
    "    column_names =  ['Chromosome', 'Start', 'End', 'TSS_Chromosome', 'TSS_Start', 'TSS_End', 'Gene', 'Score', 'Strand_1', 'Strand_2'] # <-- Standard \".bedpe\" Format\n",
    "    sample = pd.read_csv(file_path, sep= '\\t', header = None, names = column_names)\n",
    "    sample = sample.drop(['TSS_Chromosome', 'TSS_Start', 'TSS_End', 'Score', 'Strand_1', 'Strand_2'], axis = 1) \n",
    "    sample['Gene'] = sample['Gene'].str.split('_').str[0] # <-- Isolates \"PGGHG\" Gene from \"PGGHG_genic|chr11:282676-283176\"\n",
    "    sample['Sample'] = sample_info\n",
    "    \n",
    "    return sample # <-- returns table containing ([Chromosome], [Start], [End], [Gene], [Sample]) Headers "
   ]
  },
  {
   "cell_type": "code",
   "execution_count": null,
   "metadata": {},
   "outputs": [],
   "source": [
    "file_list = ['0h_sample', '3h_sample', '6h_sample', '12h_sample', '24h_sample', '48h_sample', '72h_sample'] # <-- Files with \".bedpe\", ex. /projectsp/f_ak1833_1/Ziyuan/abc_analysis_organized/further_analysis/0h_sample.bedpe\n",
    "file_dir = '/projectsp/f_ak1833_1/Ziyuan/abc_analysis_organized/further_analysis/'\n",
    "\n",
    "samples = [] # <-- List to be used to Reference Individual Samples\n",
    "\n",
    "for file_name in file_list: \n",
    "    file_path = file_dir + file_name + '.bedpe'\n",
    "    sample = read_samples(file_path, file_name)\n",
    "    samples.append(sample)\n",
    "    \n",
    "module_regions = pd.concat(samples) # <-- Concatenates Modules, DOES NOT Collapse "
   ]
  },
  {
   "cell_type": "code",
   "execution_count": null,
   "metadata": {},
   "outputs": [],
   "source": [
    "def combine_modules(modules, distance: int):\n",
    "    modules = modules.sort_values(by=[\"Start\"])\n",
    "    merged = []\n",
    "    current_start = modules.iloc[0][\"Start\"]\n",
    "    current_end = modules.iloc[0][\"End\"]\n",
    "    chromosome = modules.iloc[0][\"Chromosome\"]\n",
    "    for i in range(1, len(modules)):\n",
    "        if modules.iloc[i][\"Chromosome\"] != chromosome: # <-- Checks Module's Chromosomes are Similar\n",
    "            merged.append([chromosome, current_start, current_end])\n",
    "            current_start = modules.iloc[i][\"Start\"]\n",
    "            current_end = modules.iloc[i][\"End\"]\n",
    "            chromosome = modules.iloc[i][\"Chromosome\"]\n",
    "        elif modules.iloc[i][\"Start\"] - current_end <= distance: # <-- Checks Distance is <= 'distance' Variable\n",
    "            current_end = modules.iloc[i][\"End\"]\n",
    "        else:\n",
    "            merged.append([chromosome, current_start, current_end])\n",
    "            current_start = modules.iloc[i][\"Start\"]\n",
    "            current_end = modules.iloc[i][\"End\"]\n",
    "    merged.append([chromosome, current_start, current_end])\n",
    "    \n",
    "    return pd.DataFrame(merged, columns = [\"Chromosome\", \"Start\", \"End\"]) # <-- Collapses Modules from ALL Samples, Returns \".bed\" File "
   ]
  },
  {
   "cell_type": "code",
   "execution_count": null,
   "metadata": {},
   "outputs": [],
   "source": [
    "genomic_cordinates_modules = module_regions[['Chromosome', 'Start', 'End']] # <-- Function 'combine_modules' takes ['Chromosome', 'Start', 'End'] Headers as Input\n",
    "genomic_cordinates_modules = combine_modules(genomic_cordinates_modules, 100) # <-- Combines Modules within 100 BPs of Eachother "
   ]
  },
  {
   "cell_type": "code",
   "execution_count": null,
   "metadata": {},
   "outputs": [],
   "source": [
    "genomic_cordinates_modules.to_csv(\"/home/wbd20/Kreimer_Lab/Network/genomic_cordinates_modules.bed\", sep = \"\\t\", index = False, header = False) # <-- Saves '.bed' file used for ATACSeq/H3K27ac Bedtool's"
   ]
  },
  {
   "cell_type": "code",
   "execution_count": null,
   "metadata": {
    "vscode": {
     "languageId": "shellscript"
    }
   },
   "outputs": [],
   "source": [
    "# Submit throught SLURMS Job, multicov uses BAMs to Count Reads\n",
    "\n",
    "bedtools multicov -bams /projectsp/f_ak1833_1/Neuro_7TP_ATACseq_OUT/ATACseq_0hr_rep1/ATACseq_0hr_rep1_shifted.bam /projectsp/f_ak1833_1/Neuro_7TP_ATACseq_OUT/ATACseq_0hr_rep2/ATACseq_0hr_rep2_shifted.bam -bed /home/wbd20/Kreimer_Lab/Network/genomic_cordinates_modules.bed > /home/wbd20/Kreimer_Lab/ATACSeq/Read_Counts/ATACseq_0hr_enhancers_combined_PeakCounts.tab\n",
    "bedtools multicov -bams /projectsp/f_ak1833_1/Neuro_7TP_ATACseq_OUT/ATACseq_3hr_rep1/ATACseq_3hr_rep1_shifted.bam /projectsp/f_ak1833_1/Neuro_7TP_ATACseq_OUT/ATACseq_3hr_rep2/ATACseq_3hr_rep2_shifted.bam -bed /home/wbd20/Kreimer_Lab/Network/genomic_cordinates_modules.bed > /home/wbd20/Kreimer_Lab/ATACSeq/Read_Counts/ATACseq_3hr_enhancers_combined_PeakCounts.tab\n",
    "bedtools multicov -bams /projectsp/f_ak1833_1/Neuro_7TP_ATACseq_OUT/ATACseq_6hr_rep1/ATACseq_6hr_rep1_shifted.bam /projectsp/f_ak1833_1/Neuro_7TP_ATACseq_OUT/ATACseq_6hr_rep2/ATACseq_6hr_rep2_shifted.bam -bed /home/wbd20/Kreimer_Lab/Network/genomic_cordinates_modules.bed > /home/wbd20/Kreimer_Lab/ATACSeq/Read_Counts/ATACseq_6hr_enhancers_combined_PeakCounts.tab\n",
    "bedtools multicov -bams /projectsp/f_ak1833_1/Neuro_7TP_ATACseq_OUT/ATACseq_12hr_rep1/ATACseq_12hr_rep1_shifted.bam /projectsp/f_ak1833_1/Neuro_7TP_ATACseq_OUT/ATACseq_12hr_rep2/ATACseq_12hr_rep2_shifted.bam -bed /home/wbd20/Kreimer_Lab/Network/genomic_cordinates_modules.bed > /home/wbd20/Kreimer_Lab/ATACSeq/Read_Counts/ATACseq_12hr_enhancers_combined_PeakCounts.tab\n",
    "bedtools multicov -bams /projectsp/f_ak1833_1/Neuro_7TP_ATACseq_OUT/ATACseq_24hr_rep1/ATACseq_24hr_rep1_shifted.bam /projectsp/f_ak1833_1/Neuro_7TP_ATACseq_OUT/ATACseq_24hr_rep2/ATACseq_24hr_rep2_shifted.bam -bed /home/wbd20/Kreimer_Lab/Network/genomic_cordinates_modules.bed > /home/wbd20/Kreimer_Lab/ATACSeq/Read_Counts/ATACseq_24hr_enhancers_combined_PeakCounts.tab\n",
    "bedtools multicov -bams /projectsp/f_ak1833_1/Neuro_7TP_ATACseq_OUT/ATACseq_48hr_rep1/ATACseq_48hr_rep1_shifted.bam /projectsp/f_ak1833_1/Neuro_7TP_ATACseq_OUT/ATACseq_48hr_rep2/ATACseq_48hr_rep2_shifted.bam -bed /home/wbd20/Kreimer_Lab/Network/genomic_cordinates_modules.bed > /home/wbd20/Kreimer_Lab/ATACSeq/Read_Counts/ATACseq_48hr_enhancers_combined_PeakCounts.tab\n",
    "bedtools multicov -bams /projectsp/f_ak1833_1/Neuro_7TP_ATACseq_OUT/ATACseq_72hr_rep1/ATACseq_72hr_rep1_shifted.bam /projectsp/f_ak1833_1/Neuro_7TP_ATACseq_OUT/ATACseq_72hr_rep2/ATACseq_72hr_rep2_shifted.bam -bed /home/wbd20/Kreimer_Lab/Network/genomic_cordinates_modules.bed > /home/wbd20/Kreimer_Lab/ATACSeq/Read_Counts/ATACseq_72hr_enhancers_combined_PeakCounts.tab\n",
    "\n",
    "bedtools multicov -bams /projectsp/f_ak1833_1/dualSMADChiPSeq/rep1_OUT/0hr_K27ac/0hr_K27ac_noblklst.bam /projectsp/f_ak1833_1/dualSMADChiPSeq/rep2_OUT/0hr_K27ac/0hr_K27ac_noblklst.bam -bed /home/wbd20/Kreimer_Lab/Network/genomic_cordinates_modules.bed > /home/wbd20/Kreimer_Lab/H3K27ac/Read_Counts/H3K27ac_0hr_enhancers_combined_PeakCounts.tab\n",
    "bedtools multicov -bams /projectsp/f_ak1833_1/dualSMADChiPSeq/rep1_OUT/3hr_K27ac/3hr_K27ac_noblklst.bam /projectsp/f_ak1833_1/dualSMADChiPSeq/rep2_OUT/3hr_K27ac/3hr_K27ac_noblklst.bam -bed /home/wbd20/Kreimer_Lab/Network/genomic_cordinates_modules.bed > /home/wbd20/Kreimer_Lab/H3K27ac/Read_Counts/H3K27ac_3hr_enhancers_combined_PeakCounts.tab\n",
    "bedtools multicov -bams /projectsp/f_ak1833_1/dualSMADChiPSeq/rep1_OUT/6hr_K27ac/6hr_K27ac_noblklst.bam /projectsp/f_ak1833_1/dualSMADChiPSeq/rep2_OUT/6hr_K27ac/6hr_K27ac_noblklst.bam -bed /home/wbd20/Kreimer_Lab/Network/genomic_cordinates_modules.bed > /home/wbd20/Kreimer_Lab/H3K27ac/Read_Counts/H3K27ac_6hr_enhancers_combined_PeakCounts.tab\n",
    "bedtools multicov -bams /projectsp/f_ak1833_1/dualSMADChiPSeq/rep1_OUT/12hr_K27ac/12hr_K27ac_noblklst.bam /projectsp/f_ak1833_1/dualSMADChiPSeq/rep2_OUT/12hr_K27ac/12hr_K27ac_noblklst.bam -bed /home/wbd20/Kreimer_Lab/Network/genomic_cordinates_modules.bed > /home/wbd20/Kreimer_Lab/H3K27ac/Read_Counts/Ziyuan/H3K27ac_12hr_enhancers_combined_PeakCounts.tab\n",
    "bedtools multicov -bams /projectsp/f_ak1833_1/dualSMADChiPSeq/rep1_OUT/24hr_K27ac/24hr_K27ac_noblklst.bam /projectsp/f_ak1833_1/dualSMADChiPSeq/rep2_OUT/24hr_K27ac/24hr_K27ac_noblklst.bam -bed /home/wbd20/Kreimer_Lab/Network/genomic_cordinates_modules.bed > /home/wbd20/Kreimer_Lab/H3K27ac/Read_Counts/H3K27ac_24hr_enhancers_combined_PeakCounts.tab\n",
    "bedtools multicov -bams /projectsp/f_ak1833_1/dualSMADChiPSeq/rep1_OUT/48hr_K27ac/48hr_K27ac_noblklst.bam /projectsp/f_ak1833_1/dualSMADChiPSeq/rep2_OUT/48hr_K27ac/48hr_K27ac_noblklst.bam -bed /home/wbd20/Kreimer_Lab/Network/genomic_cordinates_modules.bed > /home/wbd20/Kreimer_Lab/H3K27ac/Read_Counts/H3K27ac_48hr_enhancers_combined_PeakCounts.tab\n",
    "bedtools multicov -bams /projectsp/f_ak1833_1/dualSMADChiPSeq/rep1_OUT/72hr_K27ac/72hr_K27ac_noblklst.bam /projectsp/f_ak1833_1/dualSMADChiPSeq/rep2_OUT/72hr_K27ac/72hr_K27ac_noblklst.bam -bed /home/wbd20/Kreimer_Lab/Network/genomic_cordinates_modules.bed > /home/wbd20/Kreimer_Lab/H3K27ac/Read_Counts/H3K27ac_72hr_enhancers_combined_PeakCounts.tab\n"
   ]
  },
  {
   "cell_type": "code",
   "execution_count": null,
   "metadata": {},
   "outputs": [],
   "source": [
    "class ReadCounts: \n",
    "    def __init__(self, ngs_method: str, dataframe: pd.DataFrame, replicants: int, timepoint: int, condition: str, batch: str):\n",
    "        self.ngs_method = ngs_method # <-- ATACSeq, H3K27ac, RNASeq, etc. \n",
    "        self.dataframe = dataframe # <-- Sourced from Bedtool's multicov\n",
    "        self.replicants = replicants \n",
    "        self.timepoint = timepoint # <-- Sample Information, Integer Variable\n",
    "        self.condition = condition \n",
    "        self.batch = batch # <-- Relevant to ImpulseDE2 \n",
    "        header = ['CHROM', 'START', 'END'] + [f'{timepoint}hrs.{ngs_method}_REPLICANT.{i}' for i in range(1, replicants+1)]\n",
    "        self.dataframe.columns = header\n",
    "        self.df = self.dataframe"
   ]
  },
  {
   "cell_type": "code",
   "execution_count": null,
   "metadata": {},
   "outputs": [],
   "source": [
    "def read_readcounts(file_paths: list[str], ngs_method: str, replicants: int, timepoints: list[int], conditions: list[str], batches: list[str]):\n",
    "    readcounts = []\n",
    "    for i in range(len(file_paths)):\n",
    "        dataframe = pd.read_csv(file_paths[i], sep = \"\\t\", header = None)\n",
    "        readcounts.append(ReadCounts(ngs_method[i], dataframe, replicants[i], timepoints[i], conditions[i], batches[i]))\n",
    "    \n",
    "    return readcounts # <-- List of ReadCount Class Objects"
   ]
  },
  {
   "cell_type": "code",
   "execution_count": null,
   "metadata": {},
   "outputs": [],
   "source": [
    "file_paths = ['/home/wbd20/Kreimer_Lab/ATACSeq/Read_Counts/ATACseq_0hr_enhancers_combined_PeakCounts.tab', \n",
    "              '/home/wbd20/Kreimer_Lab/ATACSeq/Read_Counts/ATACseq_3hr_enhancers_combined_PeakCounts.tab', \n",
    "              '/home/wbd20/Kreimer_Lab/ATACSeq/Read_Counts/ATACseq_6hr_enhancers_combined_PeakCounts.tab',\n",
    "              '/home/wbd20/Kreimer_Lab/ATACSeq/Read_Counts/ATACseq_12hr_enhancers_combined_PeakCounts.tab',\n",
    "              '/home/wbd20/Kreimer_Lab/ATACSeq/Read_Counts/ATACseq_24hr_enhancers_combined_PeakCounts.tab',\n",
    "              '/home/wbd20/Kreimer_Lab/ATACSeq/Read_Counts/ATACseq_48hr_enhancers_combined_PeakCounts.tab',\n",
    "              '/home/wbd20/Kreimer_Lab/ATACSeq/Read_Counts/ATACseq_72hr_enhancers_combined_PeakCounts.tab',\n",
    "              ]\n",
    "\n",
    "ngs_method = [\"ATACSeq\", \"ATACSeq\", \"ATACSeq\", \"ATACSeq\", \"ATACSeq\", \"ATACSeq\", \"ATACSeq\"]\n",
    "replicants = [2, 2, 2, 2, 2, 2, 2]\n",
    "timepoints = [0, 3, 6, 12, 24, 48, 72]\n",
    "condition = [\"case\", \"case\", \"case\", \"case\", \"case\", \"case\", \"case\"]\n",
    "batch = [\"B_NULL\", \"B_NULL\", \"B_NULL\", \"B_NULL\", \"B_NULL\", \"B_NULL\", \"B_NULL\"]\n",
    "\n",
    "ATACSeq_ReadCounts = read_readcounts(file_paths, ngs_method, replicants, timepoints, condition, batch)\n",
    "\n",
    "file_paths = ['/home/wbd20/Kreimer_Lab/H3K27ac/Read_Counts/H3K27ac_0hr_enhancers_combined_PeakCounts.tab', \n",
    "              '/home/wbd20/Kreimer_Lab/H3K27ac/Read_Counts/H3K27ac_3hr_enhancers_combined_PeakCounts.tab', \n",
    "              '/home/wbd20/Kreimer_Lab/H3K27ac/Read_Counts/H3K27ac_6hr_enhancers_combined_PeakCounts.tab',\n",
    "              '/home/wbd20/Kreimer_Lab/H3K27ac/Read_Counts/H3K27ac_12hr_enhancers_combined_PeakCounts.tab',\n",
    "              '/home/wbd20/Kreimer_Lab/H3K27ac/Read_Counts/H3K27ac_24hr_enhancers_combined_PeakCounts.tab',\n",
    "              '/home/wbd20/Kreimer_Lab/H3K27ac/Read_Counts/H3K27ac_48hr_enhancers_combined_PeakCounts.tab',\n",
    "              '/home/wbd20/Kreimer_Lab/H3K27ac/Read_Counts/H3K27ac_72hr_enhancers_combined_PeakCounts.tab',\n",
    "              ]\n",
    "\n",
    "ngs_method = [\"H3K27ac\", \"H3K27ac\", \"H3K27ac\", \"H3K27ac\", \"H3K27ac\", \"H3K27ac\", \"H3K27ac\"]\n",
    "replicants = [2, 2, 2, 2, 2, 2, 2]\n",
    "timepoints = [0, 3, 6, 12, 24, 48, 72]\n",
    "condition = [\"case\", \"case\", \"case\", \"case\", \"case\", \"case\", \"case\"]\n",
    "batch = [\"B_NULL\", \"B_NULL\", \"B_NULL\", \"B_NULL\", \"B_NULL\", \"B_NULL\", \"B_NULL\"]\n",
    "\n",
    "H3K27ac_ReadCounts = read_readcounts(file_paths, ngs_method, replicants, timepoints, condition, batch)\n"
   ]
  },
  {
   "cell_type": "code",
   "execution_count": null,
   "metadata": {},
   "outputs": [],
   "source": [
    "def generate_deseq2_conditions(rc_list: list[ReadCounts], output_dir: str):\n",
    "    rc_list = sorted(rc_list, key = lambda x: x.timepoint)\n",
    "    for i in range(len(rc_list)):\n",
    "        for j in range(i + 1, len(rc_list)):\n",
    "            rc1, rc2 = rc_list[i], rc_list[j]\n",
    "            data = []\n",
    "            for k in range(1, rc1.replicants + 1):\n",
    "                data.append([f\"{rc1.timepoint}hrs.{rc1.ngs_method}_REPLICANT.{k}\", f\"{rc1.timepoint}hrs.{rc1.ngs_method}\"])\n",
    "            for k in range(1, rc2.replicants + 1):\n",
    "                data.append([f\"{rc2.timepoint}hrs.{rc2.ngs_method}_REPLICANT.{k}\", f\"{rc2.timepoint}hrs.{rc2.ngs_method}\"])\n",
    "\n",
    "            df = pd.DataFrame(data, columns = [\"\", \"timepoints\"])\n",
    "            filename = f\"{rc1.timepoint}hrs_{rc2.timepoint}hrs.{rc1.ngs_method}.DESeq2_conditions.csv\"\n",
    "            filepath = os.path.join(output_dir, filename)\n",
    "            df.to_csv(filepath, index = False)"
   ]
  },
  {
   "cell_type": "code",
   "execution_count": null,
   "metadata": {},
   "outputs": [],
   "source": [
    "def generate_deseq2_comparisons(rc_list: list[ReadCounts], output_dir: str):\n",
    "    rc_list = sorted(rc_list, key = lambda x: x.timepoint)\n",
    "    for i in range(len(rc_list)):\n",
    "        for j in range(i + 1, len(rc_list)):\n",
    "            rc1, rc2 = rc_list[i], rc_list[j]\n",
    "            df = pd.merge(rc1.df, rc2.df, on=['CHROM', 'START', 'END'])\n",
    "            filename = f\"{rc1.timepoint}hrs_{rc2.timepoint}hrs.{rc1.ngs_method}.DESeq2_comparisons.csv\"\n",
    "            filepath = os.path.join(output_dir, filename)\n",
    "            df.to_csv(filepath, index = False)"
   ]
  },
  {
   "cell_type": "code",
   "execution_count": null,
   "metadata": {},
   "outputs": [],
   "source": [
    "generate_deseq2_conditions(ATACSeq_ReadCounts,'/home/wbd20/Kreimer_Lab/ATACSeq/DESeq2')\n",
    "generate_deseq2_conditions(H3K27ac_ReadCounts,'/home/wbd20/Kreimer_Lab/ATACSeq/DESeq2')"
   ]
  },
  {
   "cell_type": "code",
   "execution_count": null,
   "metadata": {},
   "outputs": [],
   "source": [
    "def generate_impulsede2_conditions(rc_list: list[ReadCounts], output_dir: str):\n",
    "    rc_list = sorted(rc_list, key = lambda x: x.timepoint)\n",
    "    data = []\n",
    "    timepoints = sorted(list(set([rc.timepoint for rc in rc_list])))\n",
    "    for rc in rc_list:\n",
    "        for k in range(1, rc.replicants + 1):\n",
    "            data.append([f\"{rc.timepoint}hrs.{rc.ngs_method}_REPLICANT.{k}\", rc.condition, timepoints.index(rc.timepoint) + 1, rc.batch])\n",
    "    df = pd.DataFrame(data, columns = [\"Sample\", \"Condition\", \"Time\", \"Batch\"])\n",
    "    timepoints_str = '_'.join([f\"{rc.timepoint}hrs\" for rc in rc_list])\n",
    "    filename = f\"{timepoints_str}_{rc_list[0].ngs_method}.ImpulseDE2_conditions.csv\"\n",
    "    filepath = os.path.join(output_dir, filename)\n",
    "    df.to_csv(filepath, index = False)"
   ]
  },
  {
   "cell_type": "code",
   "execution_count": null,
   "metadata": {},
   "outputs": [],
   "source": [
    "def generate_impulsede2_comparisons(rc_list: list[ReadCounts], output_dir: str):\n",
    "    rc_list = sorted(rc_list, key = lambda x: x.timepoint)\n",
    "    df = rc_list[0].df\n",
    "    for rc in rc_list[1:]:\n",
    "        df = pd.merge(df, rc.df, on=['CHROM', 'START', 'END'], how='inner')\n",
    "    filename = f\"{'_'.join([f'{rc.timepoint}hrs' for rc in rc_list])}_{rc_list[0].ngs_method}.ImpulseDE2_comparisons.csv\"\n",
    "    filepath = os.path.join(output_dir, filename)\n",
    "    df.to_csv(filepath, index = False)"
   ]
  },
  {
   "cell_type": "code",
   "execution_count": null,
   "metadata": {},
   "outputs": [],
   "source": [
    "generate_impulsede2_conditions(ATACSeq_ReadCounts,'/home/wbd20/Kreimer_Lab/ATACSeq/ImpulseDE2')\n",
    "generate_impulsede2_comparisons(H3K27ac_ReadCounts,'/home/wbd20/Kreimer_Lab/ATACSeq/ImpulseDE2')"
   ]
  }
 ],
 "metadata": {
  "kernelspec": {
   "display_name": "network-analysis",
   "language": "python",
   "name": "python3"
  },
  "language_info": {
   "codemirror_mode": {
    "name": "ipython",
    "version": 3
   },
   "file_extension": ".py",
   "mimetype": "text/x-python",
   "name": "python",
   "nbconvert_exporter": "python",
   "pygments_lexer": "ipython3",
   "version": "3.10.9"
  },
  "vscode": {
   "interpreter": {
    "hash": "03d29b3d1981d4967f29c03ab27c2fbadeeb1425e2a4c625b2264c4ce0978584"
   }
  }
 },
 "nbformat": 4,
 "nbformat_minor": 2
}
