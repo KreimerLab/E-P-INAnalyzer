{
 "cells": [
  {
   "cell_type": "code",
   "execution_count": 1,
   "id": "1a6bbe2d",
   "metadata": {},
   "outputs": [],
   "source": [
    "# Matrix Manipulation/Management Libraries\n",
    "import pandas as pd\n",
    "\n",
    "# Input/Output Libraries\n",
    "import os"
   ]
  },
  {
   "cell_type": "code",
   "execution_count": 2,
   "id": "6650c5e8",
   "metadata": {},
   "outputs": [],
   "source": [
    "# Function: Process Activity-By-Contact Model Data \n",
    "\n",
    "def read_samples(file: str, sample_info: str):\n",
    "    cols =  ['Chrom', 'Start', 'End', 'TSS_Chrom', 'TSS_Start', 'TSS_End', 'Gene', 'Score', 'Strand_1', 'Strand_2']\n",
    "    sample = pd.read_csv(file, sep= '\\t', header = None, names = cols)\n",
    "    sample = sample.drop(['TSS_Chrom', 'TSS_Start', 'TSS_End', 'Score', 'Strand_1', 'Strand_2'], axis = 1) \n",
    "    sample['Gene'] = sample['Gene'].str.split('_').str[0]\n",
    "    sample['Sample'] = sample_info\n",
    "    \n",
    "    return sample"
   ]
  },
  {
   "cell_type": "code",
   "execution_count": 3,
   "id": "2f5c497d",
   "metadata": {},
   "outputs": [],
   "source": [
    "# Function: Combine Modules (Enhancers) within n BPs, Maintain Column-Specific (Gene, Sample,etc.) Information\n",
    "\n",
    "def combine_modules(modules, distance: int, column_header: str):\n",
    "    modules = modules.sort_values(by=[\"Start\"])\n",
    "    merged = []\n",
    "    current_start = modules.iloc[0][\"Start\"]\n",
    "    current_end = modules.iloc[0][\"End\"]\n",
    "    chromosome = modules.iloc[0][\"Chrom\"]\n",
    "    time_point = modules.iloc[0][\"Sample\"]\n",
    "    column_information = {time_point: set([modules.iloc[0][column_header]])}\n",
    "\n",
    "    for i in range(1, len(modules)):\n",
    "        time_point = modules.iloc[i][\"Sample\"]\n",
    "        if modules.iloc[i][\"Chrom\"] != chromosome:\n",
    "            merged.append([chromosome, current_start, current_end, column_information])\n",
    "            current_start = modules.iloc[i][\"Start\"]\n",
    "            current_end = modules.iloc[i][\"End\"]\n",
    "            chromosome = modules.iloc[i][\"Chrom\"]\n",
    "            column_information = {time_point: set([modules.iloc[i][column_header]])}\n",
    "        elif modules.iloc[i][\"Start\"] - current_end <= distance:\n",
    "            current_end = max(modules.iloc[i][\"End\"], current_end)\n",
    "            if time_point in column_information:\n",
    "                column_information[time_point].add(modules.iloc[i][column_header])\n",
    "            else:\n",
    "                column_information[time_point] = set([modules.iloc[i][column_header]])\n",
    "        else:\n",
    "            merged.append([chromosome, current_start, current_end, column_information])\n",
    "            current_start = modules.iloc[i][\"Start\"]\n",
    "            current_end = modules.iloc[i][\"End\"]\n",
    "            column_information = {time_point: set([modules.iloc[i][column_header]])}\n",
    "    \n",
    "    merged.append([chromosome, current_start, current_end, column_information]) \n",
    "    \n",
    "    return pd.DataFrame(merged, columns = [\"Chrom\", \"Start\", \"End\", column_header])"
   ]
  },
  {
   "cell_type": "code",
   "execution_count": 4,
   "id": "0c99f8be",
   "metadata": {},
   "outputs": [],
   "source": [
    "# Load Activity-By-Contact Model Samples\n",
    "\n",
    "file_list = ['0h_sample', '3h_sample', '6h_sample', '12h_sample', '24h_sample', '48h_sample', '72h_sample']\n",
    "file_dir = '/projectsp/f_ak1833_1/Ziyuan/abc_analysis_organized/further_analysis/'\n",
    "\n",
    "samples = []\n",
    "\n",
    "for file_name in file_list: \n",
    "    file_path = file_dir + file_name + '.bedpe'\n",
    "    sample = read_samples(file_path, file_name)\n",
    "    samples.append(sample)\n",
    "    \n",
    "uncollapsed_module_regions = pd.concat(samples)"
   ]
  },
  {
   "cell_type": "code",
   "execution_count": 5,
   "id": "3d9b4713",
   "metadata": {},
   "outputs": [],
   "source": [
    "# Collapse Modules (Enhancers) within 100 BPs\n",
    "module_regions_genes = combine_modules(uncollapsed_module_regions, 100, \"Gene\")"
   ]
  },
  {
   "cell_type": "code",
   "execution_count": 6,
   "id": "c53a112a",
   "metadata": {},
   "outputs": [],
   "source": [
    "# Create a new DataFrame where each row corresponds to a unique time point, chromosome, start, end, and gene\n",
    "time_point_rows = []\n",
    "for idx, row in module_regions_genes.iterrows():\n",
    "    for time_point, genes in row['Gene'].items():\n",
    "        for gene in genes:\n",
    "            time_point_rows.append([row['Chrom'], row['Start'], row['End'], time_point, gene])\n",
    "            \n",
    "module_regions_unlabeled = pd.DataFrame(time_point_rows, columns=[\"Chrom\", \"Start\", \"End\", \"Sample\", \"Gene\"])"
   ]
  },
  {
   "cell_type": "code",
   "execution_count": 7,
   "id": "7cc34c8c",
   "metadata": {},
   "outputs": [],
   "source": [
    "# Label Unique Module (Enhancer) Regions\n",
    "modules_labeled = module_regions_unlabeled\n",
    "modules_labeled = modules_labeled.drop(\"Gene\", axis = 1)\n",
    "modules_labeled = modules_labeled.drop(\"Sample\", axis =1)\n",
    "modules_labeled['Module'] = 'Module_' + modules_labeled.groupby(['Chrom', 'Start', 'End']).ngroup().add(1).astype(str)\n",
    "modules_labeled = modules_labeled.reindex(['Chrom', 'Start', 'End', 'Module'], axis = 1)\n",
    "modules_labeled = modules_labeled.drop_duplicates()"
   ]
  },
  {
   "cell_type": "code",
   "execution_count": 8,
   "id": "e95ba536",
   "metadata": {},
   "outputs": [],
   "source": [
    "# Generate File for Collapsed, Unfiltered Activity-By-Contact Unique Regions\n",
    "\n",
    "modules_labeled.to_csv(\"/home/wbd20/Kreimer_Lab/Network/Components/ABC_Network_Unique_Regions_Labeled.tsv\",\n",
    "                       sep = '\\t', index = False)"
   ]
  },
  {
   "cell_type": "code",
   "execution_count": 9,
   "id": "7b49d116",
   "metadata": {},
   "outputs": [],
   "source": [
    "# Generate .bed File for bedtools multicov\n",
    "\n",
    "module_bed = modules_labeled\n",
    "module_bed = module_bed.drop('Module', axis = 1)\n",
    "module_bed.to_csv(\"/home/wbd20/Kreimer_Lab/Network/Components/ABC_Network_Unfiltered_Regions.bed\",\n",
    "                       sep = '\\t', header = None, index = None)"
   ]
  },
  {
   "cell_type": "code",
   "execution_count": 10,
   "id": "1cd60cfe",
   "metadata": {},
   "outputs": [],
   "source": [
    "# Create Collapsed, Unfiltered Activity-By-Contact Network (Modules, Genes, Samples)\n",
    "\n",
    "module_regions_unlabeled = module_regions_unlabeled.merge(modules_labeled, on=[\"Chrom\",\"Start\", 'End'])\n",
    "module_regions_unlabeled = module_regions_unlabeled.reindex(['Chrom', 'Start', 'End', 'Module', 'Gene', 'Sample'], axis = 1)\n",
    "module_regions_edges = module_regions_unlabeled"
   ]
  },
  {
   "cell_type": "code",
   "execution_count": 11,
   "id": "478596b8",
   "metadata": {},
   "outputs": [],
   "source": [
    "# Generate File for Collapsed, Unfiltered Activity-By-Contact Edges\n",
    "\n",
    "module_regions_edges.to_csv(\"/home/wbd20/Kreimer_Lab/Network/Components/ABC_Network_Unfiltered_Edges.tsv\",\n",
    "                                sep = '\\t', index = False)"
   ]
  },
  {
   "cell_type": "code",
   "execution_count": 12,
   "id": "b4a8fd99",
   "metadata": {},
   "outputs": [],
   "source": [
    "# Execute --> multicov.sh"
   ]
  },
  {
   "cell_type": "code",
   "execution_count": 13,
   "id": "ff04c8e6",
   "metadata": {},
   "outputs": [],
   "source": [
    "# Class: ATACSeq & H3K27ac Read Counts, DESeq2 and ImpulseDE2 File Creation \n",
    "\n",
    "class ReadCounts: \n",
    "    def __init__(self, ngs_method: str, dataframe: pd.DataFrame, replicants: int, timepoint: int, condition: str, batch: str):\n",
    "        self.ngs_method = ngs_method\n",
    "        self.dataframe = dataframe\n",
    "        self.replicants = replicants \n",
    "        self.timepoint = timepoint\n",
    "        self.condition = condition \n",
    "        self.batch = batch\n",
    "        header = ['Module'] + [f'{timepoint}hrs.{ngs_method}_REPLICANT.{i}' for i in range(1, replicants+1)]\n",
    "        self.dataframe.columns = header\n",
    "        self.df = self.dataframe"
   ]
  },
  {
   "cell_type": "code",
   "execution_count": 14,
   "id": "3b9852d5",
   "metadata": {},
   "outputs": [],
   "source": [
    "# Function: Replaces Sequence Information with Module Label in ReadCounts Object\n",
    "\n",
    "def merge_module_labels(file_path, annotation_module_regions: str, output_dir: str):\n",
    "    annotation_module_regions = pd.read_csv(annotation_module_regions, delimiter=\"\\t\")\n",
    "    for file_name in os.listdir(file_path):\n",
    "        if file_name.endswith(\"_PeakCounts.tab\"):\n",
    "            file_to_merge = pd.read_csv(os.path.join(file_path, file_name), delimiter=\"\\t\", names=['Chrom', 'Start', 'End', 'Counts_1', 'Counts_2'])\n",
    "            merged_df = pd.merge(file_to_merge, annotation_module_regions, on=['Chrom', 'Start', 'End'])\n",
    "            merged_df = merged_df.drop(['Chrom', 'Start', 'End'], axis=1)\n",
    "            merged_df = merged_df[['Module', 'Counts_1', 'Counts_2']]\n",
    "            merged_file_name = file_name.split(\".\")[0] + \"_labeled.tab\"\n",
    "            merged_file_path = os.path.join(output_dir, merged_file_name)\n",
    "            merged_df.to_csv(merged_file_path, sep='\\t', index=False, header=None)"
   ]
  },
  {
   "cell_type": "code",
   "execution_count": 15,
   "id": "7e10f065",
   "metadata": {},
   "outputs": [],
   "source": [
    "# Function: Loads Read Counts into ReadCounts Object \n",
    "\n",
    "def read_readcounts(file_paths: list[str], ngs_method: str, replicants: int, timepoints: list[int], conditions: list[str], batches: list[str]):\n",
    "    readcounts = []\n",
    "    for i in range(len(file_paths)):\n",
    "        dataframe = pd.read_csv(file_paths[i], sep = \"\\t\", header = None)\n",
    "        readcounts.append(ReadCounts(ngs_method[i], dataframe, replicants[i], timepoints[i], conditions[i], batches[i]))\n",
    "    \n",
    "    return readcounts"
   ]
  },
  {
   "cell_type": "code",
   "execution_count": 16,
   "id": "2e9c68b5",
   "metadata": {},
   "outputs": [],
   "source": [
    "# Function: Generates DESeq2 Condition Files\n",
    "\n",
    "def generate_deseq2_conditions(rc_list: list[ReadCounts], output_dir: str):\n",
    "    rc_list = sorted(rc_list, key = lambda x: x.timepoint)\n",
    "    for i in range(len(rc_list)):\n",
    "        for j in range(i + 1, len(rc_list)):\n",
    "            rc1, rc2 = rc_list[i], rc_list[j]\n",
    "            data = []\n",
    "            for k in range(1, rc1.replicants + 1):\n",
    "                data.append([f\"{rc1.timepoint}hrs.{rc1.ngs_method}_REPLICANT.{k}\", f\"{rc1.timepoint}hrs.{rc1.ngs_method}\"])\n",
    "            for k in range(1, rc2.replicants + 1):\n",
    "                data.append([f\"{rc2.timepoint}hrs.{rc2.ngs_method}_REPLICANT.{k}\", f\"{rc2.timepoint}hrs.{rc2.ngs_method}\"])\n",
    "\n",
    "            df = pd.DataFrame(data, columns = [\"\", \"timepoints\"])\n",
    "            file_name = f\"{rc1.timepoint}hrs_{rc2.timepoint}hrs.{rc1.ngs_method}.DESeq2_conditions.csv\"\n",
    "            file_path = os.path.join(output_dir, file_name)\n",
    "            df.to_csv(file_path, index = False)"
   ]
  },
  {
   "cell_type": "code",
   "execution_count": 17,
   "id": "393dff4a",
   "metadata": {},
   "outputs": [],
   "source": [
    "# Function: Generates DESeq2 Comparison Files\n",
    "\n",
    "def generate_deseq2_comparisons(rc_list: list[ReadCounts], output_dir: str):\n",
    "    rc_list = sorted(rc_list, key = lambda x: x.timepoint)\n",
    "    for i in range(len(rc_list)):\n",
    "        for j in range(i + 1, len(rc_list)):\n",
    "            rc1, rc2 = rc_list[i], rc_list[j]\n",
    "            df = pd.merge(rc1.df, rc2.df, on=['Module'])\n",
    "            file_name = f\"{rc1.timepoint}hrs_{rc2.timepoint}hrs.{rc1.ngs_method}.DESeq2_comparisons.csv\"\n",
    "            file_path = os.path.join(output_dir, file_name)\n",
    "            df.to_csv(file_path, index = False)"
   ]
  },
  {
   "cell_type": "code",
   "execution_count": 18,
   "id": "c26da28d",
   "metadata": {},
   "outputs": [],
   "source": [
    "# Function: Generates ImpulseDE2 Condition Files\n",
    "\n",
    "def generate_impulsede2_conditions(rc_list: list[ReadCounts], output_dir: str):\n",
    "    rc_list = sorted(rc_list, key = lambda x: x.timepoint)\n",
    "    data = []\n",
    "    timepoints = sorted(list(set([rc.timepoint for rc in rc_list])))\n",
    "    for rc in rc_list:\n",
    "        for k in range(1, rc.replicants + 1):\n",
    "            data.append([f\"{rc.timepoint}hrs.{rc.ngs_method}_REPLICANT.{k}\", rc.condition, timepoints.index(rc.timepoint) + 1, rc.batch])\n",
    "    df = pd.DataFrame(data, columns = [\"Sample\", \"Condition\", \"Time\", \"Batch\"])\n",
    "    timepoints_str = '_'.join([f\"{rc.timepoint}hrs\" for rc in rc_list])\n",
    "    file_name = f\"{timepoints_str}_{rc_list[0].ngs_method}.ImpulseDE2_conditions.csv\"\n",
    "    file_path = os.path.join(output_dir, file_name)\n",
    "    df.to_csv(file_path, index = False)"
   ]
  },
  {
   "cell_type": "code",
   "execution_count": 19,
   "id": "0c11a164",
   "metadata": {},
   "outputs": [],
   "source": [
    "# Function: Generates ImpulseDE2 Comparison Files\n",
    "\n",
    "def generate_impulsede2_comparisons(rc_list: list[ReadCounts], output_dir: str):\n",
    "    rc_list = sorted(rc_list, key = lambda x: x.timepoint)\n",
    "    df = rc_list[0].df\n",
    "    for rc in rc_list[1:]:\n",
    "        df = pd.merge(df, rc.df, on=['Module'], how='inner')\n",
    "    file_name = f\"{'_'.join([f'{rc.timepoint}hrs' for rc in rc_list])}_{rc_list[0].ngs_method}.ImpulseDE2_comparisons.csv\"\n",
    "    file_path = os.path.join(output_dir, file_name)\n",
    "    df.to_csv(file_path, index = False)"
   ]
  },
  {
   "cell_type": "code",
   "execution_count": 20,
   "id": "636d629c",
   "metadata": {},
   "outputs": [],
   "source": [
    "# Create Labeled ATACSeq Read Counts\n",
    "\n",
    "merge_module_labels('/home/wbd20/Kreimer_Lab/ATACSeq/Read_Counts/Raw/', \n",
    "                    '/home/wbd20/Kreimer_Lab/Network/Components/ABC_Network_Unique_Regions_Labeled.tsv',\n",
    "                    '/home/wbd20/Kreimer_Lab/ATACSeq/Read_Counts/Labeled/')"
   ]
  },
  {
   "cell_type": "code",
   "execution_count": 21,
   "id": "74701dc6",
   "metadata": {},
   "outputs": [],
   "source": [
    "# Create Labeled H3K27ac Read Counts\n",
    "\n",
    "merge_module_labels('/home/wbd20/Kreimer_Lab/H3K27ac/Read_Counts/Raw/', \n",
    "                    '/home/wbd20/Kreimer_Lab/Network/Components/ABC_Network_Unique_Regions_Labeled.tsv',\n",
    "                    '/home/wbd20/Kreimer_Lab/H3K27ac/Read_Counts/Labeled/')"
   ]
  },
  {
   "cell_type": "code",
   "execution_count": 22,
   "id": "b7e5d4f5",
   "metadata": {},
   "outputs": [],
   "source": [
    "# Create ATACSeq ReadCount Objects\n",
    "\n",
    "file_paths = ['/home/wbd20/Kreimer_Lab/ATACSeq/Read_Counts/Labeled/ATACseq_0hr_enhancers_combined_PeakCounts_labeled.tab', \n",
    "              '/home/wbd20/Kreimer_Lab/ATACSeq/Read_Counts/Labeled/ATACseq_3hr_enhancers_combined_PeakCounts_labeled.tab', \n",
    "              '/home/wbd20/Kreimer_Lab/ATACSeq/Read_Counts/Labeled/ATACseq_6hr_enhancers_combined_PeakCounts_labeled.tab',\n",
    "              '/home/wbd20/Kreimer_Lab/ATACSeq/Read_Counts/Labeled/ATACseq_12hr_enhancers_combined_PeakCounts_labeled.tab',\n",
    "              '/home/wbd20/Kreimer_Lab/ATACSeq/Read_Counts/Labeled/ATACseq_24hr_enhancers_combined_PeakCounts_labeled.tab',\n",
    "              '/home/wbd20/Kreimer_Lab/ATACSeq/Read_Counts/Labeled/ATACseq_48hr_enhancers_combined_PeakCounts_labeled.tab',\n",
    "              '/home/wbd20/Kreimer_Lab/ATACSeq/Read_Counts/Labeled/ATACseq_72hr_enhancers_combined_PeakCounts_labeled.tab',\n",
    "              ]\n",
    "\n",
    "ngs_method = [\"ATACSeq\", \"ATACSeq\", \"ATACSeq\", \"ATACSeq\", \"ATACSeq\", \"ATACSeq\", \"ATACSeq\"]\n",
    "replicants = [2, 2, 2, 2, 2, 2, 2]\n",
    "timepoints = [0, 3, 6, 12, 24, 48, 72]\n",
    "condition = [\"case\", \"case\", \"case\", \"case\", \"case\", \"case\", \"case\"]\n",
    "batch = [\"B_NULL\", \"B_NULL\", \"B_NULL\", \"B_NULL\", \"B_NULL\", \"B_NULL\", \"B_NULL\"]\n",
    "\n",
    "ATACSeq_ReadCounts = read_readcounts(file_paths, ngs_method, replicants, timepoints, condition, batch)"
   ]
  },
  {
   "cell_type": "code",
   "execution_count": 23,
   "id": "370d3e23",
   "metadata": {},
   "outputs": [],
   "source": [
    "# Create H3K27ac ReadCount Objects\n",
    "\n",
    "file_paths = ['/home/wbd20/Kreimer_Lab/H3K27ac/Read_Counts/Labeled/H3K27ac_0hr_enhancers_combined_PeakCounts_labeled.tab', \n",
    "              '/home/wbd20/Kreimer_Lab/H3K27ac/Read_Counts/Labeled/H3K27ac_3hr_enhancers_combined_PeakCounts_labeled.tab', \n",
    "              '/home/wbd20/Kreimer_Lab/H3K27ac/Read_Counts/Labeled/H3K27ac_6hr_enhancers_combined_PeakCounts_labeled.tab',\n",
    "              '/home/wbd20/Kreimer_Lab/H3K27ac/Read_Counts/Labeled/H3K27ac_12hr_enhancers_combined_PeakCounts_labeled.tab',\n",
    "              '/home/wbd20/Kreimer_Lab/H3K27ac/Read_Counts/Labeled/H3K27ac_24hr_enhancers_combined_PeakCounts_labeled.tab',\n",
    "              '/home/wbd20/Kreimer_Lab/H3K27ac/Read_Counts/Labeled/H3K27ac_48hr_enhancers_combined_PeakCounts_labeled.tab',\n",
    "              '/home/wbd20/Kreimer_Lab/H3K27ac/Read_Counts/Labeled/H3K27ac_72hr_enhancers_combined_PeakCounts_labeled.tab',\n",
    "              ]\n",
    "\n",
    "ngs_method = [\"H3K27ac\", \"H3K27ac\", \"H3K27ac\", \"H3K27ac\", \"H3K27ac\", \"H3K27ac\", \"H3K27ac\"]\n",
    "replicants = [2, 2, 2, 2, 2, 2, 2]\n",
    "timepoints = [0, 3, 6, 12, 24, 48, 72]\n",
    "condition = [\"case\", \"case\", \"case\", \"case\", \"case\", \"case\", \"case\"]\n",
    "batch = [\"B_NULL\", \"B_NULL\", \"B_NULL\", \"B_NULL\", \"B_NULL\", \"B_NULL\", \"B_NULL\"]\n",
    "\n",
    "H3K27ac_ReadCounts = read_readcounts(file_paths, ngs_method, replicants, timepoints, condition, batch)"
   ]
  },
  {
   "cell_type": "code",
   "execution_count": 24,
   "id": "d6e80ded",
   "metadata": {},
   "outputs": [],
   "source": [
    "# Generate ATACSeq DESeq2 Files\n",
    "\n",
    "generate_deseq2_conditions(ATACSeq_ReadCounts,'/home/wbd20/Kreimer_Lab/ATACSeq/DESeq2/Conditions/')\n",
    "generate_deseq2_comparisons(ATACSeq_ReadCounts,'/home/wbd20/Kreimer_Lab/ATACSeq/DESeq2/Comparisons/')"
   ]
  },
  {
   "cell_type": "code",
   "execution_count": 25,
   "id": "f6c25bc8",
   "metadata": {},
   "outputs": [],
   "source": [
    "# Generate H3K27ac DESeq2 Files\n",
    "\n",
    "generate_deseq2_conditions(H3K27ac_ReadCounts,'/home/wbd20/Kreimer_Lab/H3K27ac/DESeq2/Conditions/')\n",
    "generate_deseq2_comparisons(H3K27ac_ReadCounts,'/home/wbd20/Kreimer_Lab/H3K27ac/DESeq2/Comparisons/')"
   ]
  },
  {
   "cell_type": "code",
   "execution_count": 26,
   "id": "94f81703",
   "metadata": {},
   "outputs": [],
   "source": [
    "# Generate ATACSeq ImpulseDE2 Files\n",
    "\n",
    "generate_impulsede2_conditions(ATACSeq_ReadCounts,'/home/wbd20/Kreimer_Lab/ATACSeq/ImpulseDE2/Conditions/')\n",
    "generate_impulsede2_comparisons(ATACSeq_ReadCounts,'/home/wbd20/Kreimer_Lab/ATACSeq/ImpulseDE2/Comparisons/')"
   ]
  },
  {
   "cell_type": "code",
   "execution_count": 27,
   "id": "d0c0e880",
   "metadata": {},
   "outputs": [],
   "source": [
    "# Generate H3K27ac ImpulseDE2 Files\n",
    "\n",
    "generate_impulsede2_conditions(H3K27ac_ReadCounts,'/home/wbd20/Kreimer_Lab/H3K27ac/ImpulseDE2/Conditions/')\n",
    "generate_impulsede2_comparisons(H3K27ac_ReadCounts,'/home/wbd20/Kreimer_Lab/H3K27ac/ImpulseDE2/Comparisons/')"
   ]
  },
  {
   "cell_type": "code",
   "execution_count": 28,
   "id": "82dc55de",
   "metadata": {},
   "outputs": [],
   "source": [
    "# Class: RNASeq Read Counts, DESeq2 and ImpulseDE2 File Creation \n",
    "\n",
    "class ReadCounts: \n",
    "    def __init__(self, ngs_method: str, dataframe: pd.DataFrame, replicants: int, timepoint: int, condition: str, batch: str):\n",
    "        self.ngs_method = ngs_method\n",
    "        self.dataframe = dataframe\n",
    "        self.replicants = replicants \n",
    "        self.timepoint = timepoint\n",
    "        self.condition = condition \n",
    "        self.batch = batch\n",
    "        header = ['Gene'] + [f'{timepoint}hrs.{ngs_method}_REPLICANT.{i}' for i in range(1, replicants+1)]\n",
    "        self.dataframe.columns = header\n",
    "        self.df = self.dataframe"
   ]
  },
  {
   "cell_type": "code",
   "execution_count": 29,
   "id": "a8c5a4a1",
   "metadata": {},
   "outputs": [],
   "source": [
    "# Function: Generates DESeq2 Comparison Files (RNASeq)\n",
    "\n",
    "def generate_deseq2_comparisons(rc_list: list[ReadCounts], output_dir: str):\n",
    "    rc_list = sorted(rc_list, key = lambda x: x.timepoint)\n",
    "    for i in range(len(rc_list)):\n",
    "        for j in range(i + 1, len(rc_list)):\n",
    "            rc1, rc2 = rc_list[i], rc_list[j]\n",
    "            df = pd.merge(rc1.df, rc2.df, on=['Gene'])\n",
    "            file_name = f\"{rc1.timepoint}hrs_{rc2.timepoint}hrs.{rc1.ngs_method}.DESeq2_comparisons.csv\"\n",
    "            file_path = os.path.join(output_dir, file_name)\n",
    "            df.to_csv(file_path, index = False)"
   ]
  },
  {
   "cell_type": "code",
   "execution_count": 30,
   "id": "b196878d",
   "metadata": {},
   "outputs": [],
   "source": [
    "# Function: Generates ImpulseDE2 Comparison Files (RNASeq)\n",
    "\n",
    "def generate_impulsede2_comparisons(rc_list: list[ReadCounts], output_dir: str):\n",
    "    rc_list = sorted(rc_list, key = lambda x: x.timepoint)\n",
    "    df = rc_list[0].df\n",
    "    for rc in rc_list[1:]:\n",
    "        df = pd.merge(df, rc.df, on=['Gene'], how='inner')\n",
    "    file_name = f\"{'_'.join([f'{rc.timepoint}hrs' for rc in rc_list])}_{rc_list[0].ngs_method}.ImpulseDE2_comparisons.csv\"\n",
    "    file_path = os.path.join(output_dir, file_name)\n",
    "    df.to_csv(file_path, index = False)"
   ]
  },
  {
   "cell_type": "code",
   "execution_count": 31,
   "id": "acbf42ed",
   "metadata": {},
   "outputs": [],
   "source": [
    "# Load RNASeq Data\n",
    "Neuro_7TP_RNASeq_Genes = pd.read_csv('/projectsp/f_ak1833_1/Neuro_7TP_RNAseq_OUT/Neuro_7TP_RNASeq_Genes.tsv', sep = '\\t')\n",
    "Neuro_7TP_RNASeq_Genes = Neuro_7TP_RNASeq_Genes.drop('Gene', axis = 1)\n",
    "Neuro_7TP_RNASeq_Genes = Neuro_7TP_RNASeq_Genes.rename(columns={'Symbol': 'Gene'})\n",
    "\n",
    "# Remove Unnecessary FPKM, TPM Values \n",
    "cols_FPKM = Neuro_7TP_RNASeq_Genes.columns[Neuro_7TP_RNASeq_Genes.columns.str.endswith(\"_FPKM\")]\n",
    "cols_TPM = Neuro_7TP_RNASeq_Genes.columns[Neuro_7TP_RNASeq_Genes.columns.str.endswith(\"_TPM\")] \n",
    "Neuro_7TP_RNASeq_Genes = Neuro_7TP_RNASeq_Genes.drop(cols_FPKM, axis = 1)\n",
    "Neuro_7TP_RNASeq_Genes = Neuro_7TP_RNASeq_Genes.drop(cols_TPM, axis = 1)\n",
    "\n",
    "# Remove NaN Values from Read Counts\n",
    "Neuro_7TP_RNASeq_Genes = Neuro_7TP_RNASeq_Genes.dropna()\n",
    "\n",
    "# Convert Read Counts Floats to Ints\n",
    "Neuro_7TP_RNASeq_Genes = Neuro_7TP_RNASeq_Genes.round(0)\n",
    "numeric_cols = Neuro_7TP_RNASeq_Genes.select_dtypes(include=['float']).columns\n",
    "Neuro_7TP_RNASeq_Genes[numeric_cols] = Neuro_7TP_RNASeq_Genes[numeric_cols].astype(int)\n",
    "\n",
    "# Assign Column Names\n",
    "cols = ['Gene',\n",
    "        '0hrs.RNASeq_REPLICANT.1',\n",
    "        '0hrs.RNASeq_REPLICANT.2',\n",
    "        '0hrs.RNASeq_REPLICANT.3',\n",
    "        '3hrs.RNASeq_REPLICANT.1',\n",
    "        '3hrs.RNASeq_REPLICANT.2',\n",
    "        '3hrs.RNASeq_REPLICANT.3',\n",
    "        '6hrs.RNASeq_REPLICANT.1',\n",
    "        '6hrs.RNASeq_REPLICANT.2',\n",
    "        '6hrs.RNASeq_REPLICANT.3',\n",
    "        '12hrs.RNASeq_REPLICANT.1',\n",
    "        '12hrs.RNASeq_REPLICANT.2',\n",
    "        '12hrs.RNASeq_REPLICANT.3',\n",
    "        '24hrs.RNASeq_REPLICANT.1',\n",
    "        '24hrs.RNASeq_REPLICANT.2',\n",
    "        '24hrs.RNASeq_REPLICANT.3',\n",
    "        '48hrs.RNASeq_REPLICANT.1',\n",
    "        '48hrs.RNASeq_REPLICANT.2',\n",
    "        '48hrs.RNASeq_REPLICANT.3',\n",
    "        '72hrs.RNASeq_REPLICANT.1',\n",
    "        '72hrs.RNASeq_REPLICANT.2',\n",
    "        '72hrs.RNASeq_REPLICANT.3'\n",
    "       ]\n",
    "\n",
    "Neuro_7TP_RNASeq_Genes.columns = cols\n",
    "\n",
    "# Create Read Counts per Time Point\n",
    "\n",
    "Neuro_7TP_RNASeq_Genes_0hrs = Neuro_7TP_RNASeq_Genes[['Gene', \n",
    "                                                      '0hrs.RNASeq_REPLICANT.1', \n",
    "                                                      '0hrs.RNASeq_REPLICANT.2', \n",
    "                                                      '0hrs.RNASeq_REPLICANT.3']]\n",
    "\n",
    "Neuro_7TP_RNASeq_Genes_0hrs.to_csv(\"/home/wbd20/Kreimer_Lab/RNASeq/Read_Counts/Labeled/RNAseq_0hr_genes_combined_PeakCounts_labeled.tab\",\n",
    "                                   sep = '\\t', index = False, header = None)\n",
    "\n",
    "Neuro_7TP_RNASeq_Genes_3hrs = Neuro_7TP_RNASeq_Genes[['Gene', \n",
    "                                                      '3hrs.RNASeq_REPLICANT.1', \n",
    "                                                      '3hrs.RNASeq_REPLICANT.2', \n",
    "                                                      '3hrs.RNASeq_REPLICANT.3']]\n",
    "\n",
    "Neuro_7TP_RNASeq_Genes_3hrs.to_csv(\"/home/wbd20/Kreimer_Lab/RNASeq/Read_Counts/Labeled/RNAseq_3hr_genes_combined_PeakCounts_labeled.tab\",\n",
    "                                   sep = '\\t' , index = False, header = None)\n",
    "\n",
    "\n",
    "Neuro_7TP_RNASeq_Genes_6hrs = Neuro_7TP_RNASeq_Genes[['Gene', \n",
    "                                                      '6hrs.RNASeq_REPLICANT.1', \n",
    "                                                      '6hrs.RNASeq_REPLICANT.2', \n",
    "                                                      '6hrs.RNASeq_REPLICANT.3']]\n",
    "\n",
    "Neuro_7TP_RNASeq_Genes_6hrs.to_csv(\"/home/wbd20/Kreimer_Lab/RNASeq/Read_Counts/Labeled/RNAseq_6hr_genes_combined_PeakCounts_labeled.tab\",\n",
    "                                   sep = '\\t' , index = False, header = None)\n",
    "\n",
    "\n",
    "Neuro_7TP_RNASeq_Genes_12hrs = Neuro_7TP_RNASeq_Genes[['Gene', \n",
    "                                                      '12hrs.RNASeq_REPLICANT.1', \n",
    "                                                      '12hrs.RNASeq_REPLICANT.2', \n",
    "                                                      '12hrs.RNASeq_REPLICANT.3']]\n",
    "\n",
    "Neuro_7TP_RNASeq_Genes_12hrs.to_csv(\"/home/wbd20/Kreimer_Lab/RNASeq/Read_Counts/Labeled/RNAseq_12hr_genes_combined_PeakCounts_labeled.tab\",\n",
    "                                   sep = '\\t' , index = False, header = None)\n",
    "\n",
    "Neuro_7TP_RNASeq_Genes_24hrs = Neuro_7TP_RNASeq_Genes[['Gene', \n",
    "                                                      '24hrs.RNASeq_REPLICANT.1', \n",
    "                                                      '24hrs.RNASeq_REPLICANT.2', \n",
    "                                                      '24hrs.RNASeq_REPLICANT.3']]\n",
    "\n",
    "Neuro_7TP_RNASeq_Genes_24hrs.to_csv(\"/home/wbd20/Kreimer_Lab/RNASeq/Read_Counts/Labeled/RNAseq_24hr_genes_combined_PeakCounts_labeled.tab\",\n",
    "                                   sep = '\\t' , index = False, header = None)\n",
    "\n",
    "Neuro_7TP_RNASeq_Genes_48hrs = Neuro_7TP_RNASeq_Genes[['Gene', \n",
    "                                                      '48hrs.RNASeq_REPLICANT.1', \n",
    "                                                      '48hrs.RNASeq_REPLICANT.2', \n",
    "                                                      '48hrs.RNASeq_REPLICANT.3']]\n",
    "\n",
    "Neuro_7TP_RNASeq_Genes_48hrs.to_csv(\"/home/wbd20/Kreimer_Lab/RNASeq/Read_Counts/Labeled/RNAseq_48hr_genes_combined_PeakCounts_labeled.tab\",\n",
    "                                   sep = '\\t' , index = False, header = None)\n",
    "\n",
    "Neuro_7TP_RNASeq_Genes_72hrs = Neuro_7TP_RNASeq_Genes[['Gene', \n",
    "                                                      '72hrs.RNASeq_REPLICANT.1', \n",
    "                                                      '72hrs.RNASeq_REPLICANT.2', \n",
    "                                                      '72hrs.RNASeq_REPLICANT.3']]\n",
    "\n",
    "Neuro_7TP_RNASeq_Genes_72hrs.to_csv(\"/home/wbd20/Kreimer_Lab/RNASeq/Read_Counts/Labeled/RNAseq_72hr_genes_combined_PeakCounts_labeled.tab\",\n",
    "                                   sep = '\\t' , index = False, header = None)"
   ]
  },
  {
   "cell_type": "code",
   "execution_count": 32,
   "id": "380b6158",
   "metadata": {},
   "outputs": [],
   "source": [
    "# Create H3K27ac ReadCount Objects\n",
    "\n",
    "file_paths = ['/home/wbd20/Kreimer_Lab/RNASeq/Read_Counts/Labeled/RNAseq_0hr_genes_combined_PeakCounts_labeled.tab', \n",
    "              '/home/wbd20/Kreimer_Lab/RNASeq/Read_Counts/Labeled/RNAseq_3hr_genes_combined_PeakCounts_labeled.tab', \n",
    "              '/home/wbd20/Kreimer_Lab/RNASeq/Read_Counts/Labeled/RNAseq_6hr_genes_combined_PeakCounts_labeled.tab',\n",
    "              '/home/wbd20/Kreimer_Lab/RNASeq/Read_Counts/Labeled/RNAseq_12hr_genes_combined_PeakCounts_labeled.tab',\n",
    "              '/home/wbd20/Kreimer_Lab/RNASeq/Read_Counts/Labeled/RNAseq_24hr_genes_combined_PeakCounts_labeled.tab',\n",
    "              '/home/wbd20/Kreimer_Lab/RNASeq/Read_Counts/Labeled/RNAseq_48hr_genes_combined_PeakCounts_labeled.tab',\n",
    "              '/home/wbd20/Kreimer_Lab/RNASeq/Read_Counts/Labeled/RNAseq_72hr_genes_combined_PeakCounts_labeled.tab',\n",
    "              ]\n",
    "\n",
    "ngs_method = [\"RNASeq\", \"RNASeq\", \"RNASeq\", \"RNASeq\", \"RNASeq\", \"RNASeq\", \"RNASeq\"]\n",
    "replicants = [3, 3, 3, 3, 3, 3, 3]\n",
    "timepoints = [0, 3, 6, 12, 24, 48, 72]\n",
    "condition = [\"case\", \"case\", \"case\", \"case\", \"case\", \"case\", \"case\"]\n",
    "batch = [\"B_NULL\", \"B_NULL\", \"B_NULL\", \"B_NULL\", \"B_NULL\", \"B_NULL\", \"B_NULL\"]\n",
    "\n",
    "RNASeq_ReadCounts = read_readcounts(file_paths, ngs_method, replicants, timepoints, condition, batch)"
   ]
  },
  {
   "cell_type": "code",
   "execution_count": 33,
   "id": "5985c949",
   "metadata": {},
   "outputs": [],
   "source": [
    "# Generate RNASeq DESeq2 Files\n",
    "\n",
    "generate_deseq2_conditions(RNASeq_ReadCounts,'/home/wbd20/Kreimer_Lab/RNASeq/DESeq2/Conditions/')\n",
    "generate_deseq2_comparisons(RNASeq_ReadCounts,'/home/wbd20/Kreimer_Lab/RNASeq/DESeq2/Comparisons/')"
   ]
  },
  {
   "cell_type": "code",
   "execution_count": 34,
   "id": "f039c234",
   "metadata": {},
   "outputs": [],
   "source": [
    "# Generate RNASeq ImpulseDE2 Files\n",
    "\n",
    "generate_impulsede2_conditions(RNASeq_ReadCounts,'/home/wbd20/Kreimer_Lab/RNASeq/ImpulseDE2/Conditions/')\n",
    "generate_impulsede2_comparisons(RNASeq_ReadCounts,'/home/wbd20/Kreimer_Lab/RNASeq/ImpulseDE2/Comparisons/')"
   ]
  },
  {
   "cell_type": "code",
   "execution_count": 35,
   "id": "b3017552",
   "metadata": {},
   "outputs": [],
   "source": [
    "# Execute --> de.sh"
   ]
  },
  {
   "cell_type": "code",
   "execution_count": 36,
   "id": "7ea965be",
   "metadata": {},
   "outputs": [],
   "source": [
    "# Function: Compiles DESeq2 Results into File (1)\n",
    "\n",
    "def collapse_deseq2_results(base_dir: str, output_file: str):\n",
    "    dfs = []\n",
    "    for file_name in filter(lambda f: os.path.splitext(f)[1] == '.csv', next(os.walk(base_dir))[2]):\n",
    "        df = pd.read_csv(os.path.join(base_dir, file_name), sep=',', header=None)\n",
    "        df['file_name'] = file_name\n",
    "        dfs.append(df)\n",
    "    pd.concat(dfs, axis = 0).to_csv(output_file, sep=',', header=False, index=False)"
   ]
  },
  {
   "cell_type": "code",
   "execution_count": 37,
   "id": "5090ecab",
   "metadata": {},
   "outputs": [],
   "source": [
    "# Function: Extracts Modules (Enhancers) or Genes from DESeq2 Files\n",
    "\n",
    "def polish_deseq2_results(file_name: str, col_name: str, output_file: str):\n",
    "    df = pd.read_csv(file_name)\n",
    "    df.columns = [col_name, \"baseMean\", \"log2FoldChange\", \"lfcSE\", \"stat\",\"pvalue\",\"padj\",\"Timepoint\"]\n",
    "    df = df.drop(\"baseMean\", axis = 'columns')\n",
    "    df = df.drop(\"log2FoldChange\", axis = 'columns')\n",
    "    df = df.drop(\"lfcSE\", axis = 'columns')\n",
    "    df = df.drop(\"stat\", axis = 'columns')\n",
    "    df = df.drop(\"pvalue\", axis = 'columns')\n",
    "    df = df.drop(\"padj\", axis = 'columns')\n",
    "    df = df.drop(\"Timepoint\", axis = 'columns')\n",
    "    df = df.drop_duplicates()\n",
    "    df.to_csv(output_file, index=False, sep = '\\t')"
   ]
  },
  {
   "cell_type": "code",
   "execution_count": 38,
   "id": "e745187a",
   "metadata": {},
   "outputs": [],
   "source": [
    "# Function: Extracts Modules (Enhancers) or Genes from DESeq2 Files\n",
    "\n",
    "def polish_impulsede2_results(file_name: str, col_name: str, output_file: str):\n",
    "    df = pd.read_csv(file_name)\n",
    "    df.columns = [\"\", col_name, \"p\", \"padj\", \"loglik_full\", \"loglik_red\", \"df_full\", \"df_red\", \"mean\", \"converge_impulse\", \"converge_const\", \"allZero\"]\n",
    "    df = df.drop(\"p\", axis = 'columns')\n",
    "    df = df.drop(\"padj\", axis = 'columns')\n",
    "    df = df.drop(\"loglik_full\", axis = 'columns')\n",
    "    df = df.drop(\"loglik_red\", axis = 'columns')\n",
    "    df = df.drop(\"df_full\", axis = 'columns')\n",
    "    df = df.drop(\"df_red\", axis = 'columns')\n",
    "    df = df.drop(\"mean\", axis = 'columns')\n",
    "    df = df.drop(\"converge_impulse\", axis = 'columns')\n",
    "    df = df.drop(\"converge_const\", axis = 'columns')\n",
    "    df = df.drop(\"allZero\", axis = 'columns')\n",
    "    df = df.drop(\"\", axis = 'columns')\n",
    "    df = df.drop_duplicates()\n",
    "\n",
    "    df.to_csv(output_file, index=False, sep = '\\t')"
   ]
  },
  {
   "cell_type": "code",
   "execution_count": 39,
   "id": "1be50b17",
   "metadata": {},
   "outputs": [],
   "source": [
    "# Collapse ATACSeq DESeq2 Results\n",
    "\n",
    "collapse_deseq2_results('/home/wbd20/Kreimer_Lab/ATACSeq/DESeq2/Results/', \n",
    "                        '/home/wbd20/Kreimer_Lab/ATACSeq/DESeq2/Results/Collapsed/ATACSeq.DESeq2_collapsed.csv')"
   ]
  },
  {
   "cell_type": "code",
   "execution_count": 40,
   "id": "1f36ca7f",
   "metadata": {},
   "outputs": [],
   "source": [
    "# Collapse H3K27ac DESeq2 Results\n",
    "\n",
    "collapse_deseq2_results('/home/wbd20/Kreimer_Lab/H3K27ac/DESeq2/Results/', \n",
    "                        '/home/wbd20/Kreimer_Lab/H3K27ac/DESeq2/Results/Collapsed/H3K27ac.DESeq2_collapsed.csv')"
   ]
  },
  {
   "cell_type": "code",
   "execution_count": 41,
   "id": "22ec524d",
   "metadata": {},
   "outputs": [],
   "source": [
    "# Collapse RNASeq DESeq2 Results\n",
    "\n",
    "collapse_deseq2_results('/home/wbd20/Kreimer_Lab/RNASeq/DESeq2/Results/', \n",
    "                        '/home/wbd20/Kreimer_Lab/RNASeq/DESeq2/Results/Collapsed/RNASeq.DESeq2_collapsed.csv')"
   ]
  },
  {
   "cell_type": "code",
   "execution_count": 42,
   "id": "7ac97a7f",
   "metadata": {},
   "outputs": [],
   "source": [
    "# Polish ATACSeq DESeq2 Results\n",
    "\n",
    "polish_deseq2_results('/home/wbd20/Kreimer_Lab/ATACSeq/DESeq2/Results/Collapsed/ATACSeq.DESeq2_collapsed.csv',\n",
    "                      'Module',\n",
    "                      \"/home/wbd20/Kreimer_Lab/Network/Components/ATACSeq.DESeq2_regions.txt\")"
   ]
  },
  {
   "cell_type": "code",
   "execution_count": 43,
   "id": "311b3e47",
   "metadata": {},
   "outputs": [],
   "source": [
    "# Polish H3K27ac DESeq2 Results\n",
    "\n",
    "polish_deseq2_results('/home/wbd20/Kreimer_Lab/H3K27ac/DESeq2/Results/Collapsed/H3K27ac.DESeq2_collapsed.csv',\n",
    "                      'Module',\n",
    "                      '/home/wbd20/Kreimer_Lab/Network/Components/H3K27ac.DESeq2_regions.txt')"
   ]
  },
  {
   "cell_type": "code",
   "execution_count": 44,
   "id": "7511e213",
   "metadata": {},
   "outputs": [],
   "source": [
    "# Polish RNASeq DESeq2 Results\n",
    "\n",
    "polish_deseq2_results('/home/wbd20/Kreimer_Lab/RNASeq/DESeq2/Results/Collapsed/RNASeq.DESeq2_collapsed.csv',\n",
    "                      'Gene',\n",
    "                      '/home/wbd20/Kreimer_Lab/Network/Components/RNASeq.DESeq2_genes.txt')"
   ]
  },
  {
   "cell_type": "code",
   "execution_count": 45,
   "id": "0828d0f6",
   "metadata": {},
   "outputs": [],
   "source": [
    "# Polish ATACSeq ImpulseDE2 Results\n",
    "\n",
    "polish_impulsede2_results(\"/home/wbd20/Kreimer_Lab/ATACSeq/ImpulseDE2/Results/ATACSeq.ImpulseDE2_results.csv\", \n",
    "                          \"Module\", \n",
    "                          \"/home/wbd20/Kreimer_Lab/Network/Components/ATACSeq.ImpulseDE2_regions.txt\")"
   ]
  },
  {
   "cell_type": "code",
   "execution_count": 46,
   "id": "dd97bc70",
   "metadata": {},
   "outputs": [],
   "source": [
    "# Polish H3K27ac ImpulseDE2 Results\n",
    "\n",
    "polish_impulsede2_results(\"/home/wbd20/Kreimer_Lab/H3K27ac/ImpulseDE2/Results/H3K27ac.ImpulseDE2_results.csv\", \n",
    "                          \"Module\", \n",
    "                          \"/home/wbd20/Kreimer_Lab/Network/Components/H3K27ac.ImpulseDE2_regions.txt\")"
   ]
  },
  {
   "cell_type": "code",
   "execution_count": 47,
   "id": "5b10476f",
   "metadata": {},
   "outputs": [],
   "source": [
    "# Polish RNASeq ImpulseDE2 Results\n",
    "\n",
    "polish_impulsede2_results(\"/home/wbd20/Kreimer_Lab/RNASeq/ImpulseDE2/Results/RNASeq.ImpulseDE2_results.csv\", \n",
    "                          \"Gene\", \n",
    "                          \"/home/wbd20/Kreimer_Lab/Network/Components/RNASeq.ImpulseDE2_genes.txt\")"
   ]
  },
  {
   "cell_type": "code",
   "execution_count": 48,
   "id": "58203da0",
   "metadata": {},
   "outputs": [],
   "source": [
    "# Function: Quantile Filtration for Read Counts\n",
    "\n",
    "def rc_quantile_filter(file_name: str, output_file: str, quantile: float):\n",
    "    df = pd.read_csv(file_name)\n",
    "    cols_numeric = df.select_dtypes(include = 'number').columns\n",
    "    df['Average'] = df[cols_numeric].mean(axis = 1)\n",
    "    df['Maximum'] = df[cols_numeric].max(axis = 1)\n",
    "    df = df[['Module', 'Average', 'Maximum']]\n",
    "    avg_threshold = df['Average'].quantile(quantile)\n",
    "    max_threshold = df['Maximum'].quantile(quantile)\n",
    "    quantile = df[(df['Average'] >= avg_threshold) & (df['Maximum'] >= max_threshold)]\n",
    "    quantile = quantile.drop('Average', axis = 1)\n",
    "    quantile = quantile.drop('Maximum', axis = 1)\n",
    "    quantile.to_csv(output_file, index=False, sep ='\\t')"
   ]
  },
  {
   "cell_type": "code",
   "execution_count": 49,
   "id": "f863bcf4",
   "metadata": {},
   "outputs": [],
   "source": [
    "# Grab Top 10% Modules (Enhancers), ATACSeq Read Count\n",
    "\n",
    "rc_quantile_filter('/home/wbd20/Kreimer_Lab/ATACSeq/ImpulseDE2/Comparisons/0hrs_3hrs_6hrs_12hrs_24hrs_48hrs_72hrs_ATACSeq.ImpulseDE2_comparisons.csv',\n",
    "                   \"/home/wbd20/Kreimer_Lab/Network/Components/ATACSeq.Quantile_regions.txt\", 0.95)"
   ]
  },
  {
   "cell_type": "code",
   "execution_count": 50,
   "id": "81f08533",
   "metadata": {},
   "outputs": [],
   "source": [
    "# Grab Top 10% Modules (Enhancers), H3K27ac Read Count\n",
    "\n",
    "rc_quantile_filter('/home/wbd20/Kreimer_Lab/H3K27ac/ImpulseDE2/Comparisons/0hrs_3hrs_6hrs_12hrs_24hrs_48hrs_72hrs_H3K27ac.ImpulseDE2_comparisons.csv',\n",
    "                   \"/home/wbd20/Kreimer_Lab/Network/Components/H3K27ac.Quantile_regions.txt\", 0.95)"
   ]
  },
  {
   "cell_type": "code",
   "execution_count": 51,
   "id": "50bddab2",
   "metadata": {},
   "outputs": [],
   "source": [
    "# Load RNASeq Data\n",
    "Neuro_7TP_RNASeq_Genes = pd.read_csv('/projectsp/f_ak1833_1/Neuro_7TP_RNAseq_OUT/Neuro_7TP_RNASeq_Genes.tsv', sep = '\\t')\n",
    "Neuro_7TP_RNASeq_Genes = Neuro_7TP_RNASeq_Genes.drop('Gene', axis = 1)\n",
    "Neuro_7TP_RNASeq_Genes = Neuro_7TP_RNASeq_Genes.rename(columns={'Symbol': 'Gene'})\n",
    "\n",
    "# Remove Unnecessary FPKM, countM Values \n",
    "cols_FPKM = Neuro_7TP_RNASeq_Genes.columns[Neuro_7TP_RNASeq_Genes.columns.str.endswith(\"_FPKM\")]\n",
    "cols_countM = Neuro_7TP_RNASeq_Genes.columns[Neuro_7TP_RNASeq_Genes.columns.str.endswith(\"_countM\")] \n",
    "Neuro_7TP_RNASeq_Genes = Neuro_7TP_RNASeq_Genes.drop(cols_FPKM, axis = 1)\n",
    "Neuro_7TP_RNASeq_Genes = Neuro_7TP_RNASeq_Genes.drop(cols_countM, axis = 1)\n",
    "\n",
    "# Remove NaN Values from Read Counts\n",
    "Neuro_7TP_RNASeq_Genes = Neuro_7TP_RNASeq_Genes.dropna()\n",
    "\n",
    "# Convert Read Counts Floats to Ints\n",
    "Neuro_7TP_RNASeq_Genes = Neuro_7TP_RNASeq_Genes.round(0)\n",
    "numeric_cols = Neuro_7TP_RNASeq_Genes.select_dtypes(include=['float']).columns\n",
    "Neuro_7TP_RNASeq_Genes[numeric_cols] = Neuro_7TP_RNASeq_Genes[numeric_cols].astype(int)\n",
    "\n",
    "# Quantile Filter for RNASeq TPM\n",
    "cols_numeric = Neuro_7TP_RNASeq_Genes.select_dtypes(include = 'number').columns\n",
    "Neuro_7TP_RNASeq_Genes['Average'] = Neuro_7TP_RNASeq_Genes[cols_numeric].mean(axis = 1)\n",
    "Neuro_7TP_RNASeq_Genes['Maximum'] = Neuro_7TP_RNASeq_Genes[cols_numeric].max(axis = 1)\n",
    "Neuro_7TP_RNASeq_Genes = Neuro_7TP_RNASeq_Genes[['Gene', 'Average', 'Maximum']]\n",
    "avg_threshold = Neuro_7TP_RNASeq_Genes['Average'].quantile(0.95)\n",
    "max_threshold = Neuro_7TP_RNASeq_Genes['Maximum'].quantile(0.95)\n",
    "quantile = Neuro_7TP_RNASeq_Genes[(Neuro_7TP_RNASeq_Genes['Average'] >= avg_threshold) & (Neuro_7TP_RNASeq_Genes['Maximum'] >= max_threshold)]\n",
    "quantile = quantile.drop('Average', axis = 1)\n",
    "quantile = quantile.drop('Maximum', axis = 1)\n",
    "quantile.to_csv(\"/home/wbd20/Kreimer_Lab/Network/Components/RNASeq.Quantile_genes.txt\", index=False, sep = '\\t')"
   ]
  },
  {
   "cell_type": "code",
   "execution_count": 52,
   "id": "78ee0706",
   "metadata": {},
   "outputs": [],
   "source": [
    "# Load Unfiltered Activity-By-Contact Model Network\n",
    "NW_Unfiltered = pd.read_csv('/home/wbd20/Kreimer_Lab/Network/Components/ABC_Network_Unfiltered_Edges.tsv', sep='\\t')\n",
    "\n",
    "# Load Modules (Enhancers) DESeq2, ImpulseDE2 Results\n",
    "ATACSeq_DESeq2 = pd.read_csv('/home/wbd20/Kreimer_Lab/Network/Components/ATACSeq.DESeq2_regions.txt', sep='\\t')\n",
    "ATACSeq_ImpulseDE2 = pd.read_csv('/home/wbd20/Kreimer_Lab/Network/Components/ATACSeq.ImpulseDE2_regions.txt', sep='\\t')\n",
    "H3K27ac_DESeq2 = pd.read_csv('/home/wbd20/Kreimer_Lab/Network/Components/H3K27ac.DESeq2_regions.txt', sep='\\t')\n",
    "H3K27ac_ImpulseDE2 = pd.read_csv('/home/wbd20/Kreimer_Lab/Network/Components/H3K27ac.ImpulseDE2_regions.txt', sep='\\t')\n",
    "\n",
    "# Load Modules (Enhancers) Quantile Results\n",
    "ATACSeq_Quantile = pd.read_csv('/home/wbd20/Kreimer_Lab/Network/Components/ATACSeq.Quantile_regions.txt', sep='\\t')\n",
    "H3K27ac_Quantile = pd.read_csv('/home/wbd20/Kreimer_Lab/Network/Components/H3K27ac.Quantile_regions.txt', sep='\\t')\n",
    "\n",
    "# Load Genes DESeq2, ImpulseDE2 Results\n",
    "RNASeq_DESeq2 = pd.read_csv('/home/wbd20/Kreimer_Lab/Network/Components/RNASeq.DESeq2_genes.txt', sep='\\t')\n",
    "RNASeq_ImpulseDE2 = pd.read_csv('/home/wbd20/Kreimer_Lab/Network/Components/RNASeq.ImpulseDE2_genes.txt', sep='\\t')\n",
    "\n",
    "# Load Genes Quantile Results\n",
    "Quantile_Genes = pd.read_csv('/home/wbd20/Kreimer_Lab/Network/Components/RNASeq.Quantile_genes.txt', sep='\\t')\n",
    "\n",
    "# Generate Network-Included Modules (Enhancers)\n",
    "DESeq2 = pd.merge(ATACSeq_DESeq2, H3K27ac_DESeq2, on = 'Module')\n",
    "ImpulseDE2 = pd.merge(ATACSeq_ImpulseDE2, H3K27ac_ImpulseDE2, on = 'Module')\n",
    "DE_Modules = pd.merge(DESeq2, ImpulseDE2, on = 'Module')\n",
    "Quantile_Modules =  pd.merge(ATACSeq_Quantile, H3K27ac_Quantile, on = 'Module')\n",
    "NW_Modules = pd.concat([DE_Modules, Quantile_Modules])\n",
    "\n",
    "# Generate Network-Included Genes\n",
    "DE_Genes = pd.merge(RNASeq_DESeq2, RNASeq_ImpulseDE2, on = 'Gene')\n",
    "NW_Genes = pd.concat([DE_Genes, Quantile_Genes])\n",
    "\n",
    "# Intersect Network-Included Modules (Enhancers), Network-Included Genes with Unfiltered Regions\n",
    "NW_Unfiltered = pd.merge(NW_Unfiltered, NW_Modules, on = ['Module'])\n",
    "NW_Unfiltered = pd.merge(NW_Unfiltered, NW_Genes, on = ['Gene'])\n",
    "NW_Unfiltered = NW_Unfiltered[['Chrom','Start','End','Module','Gene','Sample']]\n",
    "NW_Unfiltered = NW_Unfiltered.drop_duplicates()\n",
    "\n",
    "# Save Filtered Activity-By-Contact Network\n",
    "NW_Filtered = NW_Unfiltered\n",
    "NW_Filtered.to_csv('/home/wbd20/Kreimer_Lab/Network/ABC_Network_Filtered_Edges.tsv', sep ='\\t', index = None)\n",
    "\n",
    "# Generate Filtered Activity-By-Contact Network .bed File\n",
    "\n",
    "NW_bed = pd.read_csv('/home/wbd20/Kreimer_Lab/Network/ABC_Network_Filtered_Edges.tsv', sep ='\\t')\n",
    "NW_bed = NW_bed.drop('Sample', axis = 1)\n",
    "NW_bed = NW_bed.drop('Module', axis = 1)\n",
    "NW_bed = NW_bed.drop('Gene', axis = 1)\n",
    "NW_bed = NW_bed.drop_duplicates()\n",
    "NW_bed.to_csv('/home/wbd20/Kreimer_Lab/Network/ABC_Network_Filtered_Regions.bed', sep ='\\t', index = None, header = None)"
   ]
  },
  {
   "cell_type": "code",
   "execution_count": 53,
   "id": "ca39d3b8",
   "metadata": {},
   "outputs": [],
   "source": [
    "# Generates Filtered Activity-By-Contact Networks for Each Individual Timepoint\n",
    "\n",
    "NW_Filtered = pd.read_csv('/home/wbd20/Kreimer_Lab/Network/ABC_Network_Filtered_Edges.tsv', sep='\\t')\n",
    "\n",
    "for sample in NW_Filtered['Sample'].unique():\n",
    "    \n",
    "    sample_df = NW_Filtered[NW_Filtered['Sample'] == sample]\n",
    "    sample_df = sample_df.drop('Sample', axis=1)\n",
    "    \n",
    "    file_name = f'/home/wbd20/Kreimer_Lab/Network/Timepoints/Tables/{sample}.ABC_Network_Filtered_Edges.tsv'\n",
    "    sample_df.to_csv(file_name, sep='\\t', index=False)"
   ]
  },
  {
   "cell_type": "code",
   "execution_count": 54,
   "id": "6e715273",
   "metadata": {},
   "outputs": [],
   "source": [
    "# Generates .bed for Each Individual Timepoint\n",
    "\n",
    "NW_Filtered = pd.read_csv('/home/wbd20/Kreimer_Lab/Network/ABC_Network_Filtered_Edges.tsv', sep='\\t')\n",
    "\n",
    "for sample in NW_Filtered['Sample'].unique():\n",
    "    \n",
    "    sample_df = NW_Filtered[NW_Filtered['Sample'] == sample]\n",
    "    sample_df = sample_df.drop('Module', axis=1)\n",
    "    sample_df = sample_df.drop('Gene', axis=1)\n",
    "    sample_df = sample_df.drop('Sample', axis=1)\n",
    "    \n",
    "    file_name = f'/home/wbd20/Kreimer_Lab/Network/Timepoints/BED/{sample}.ABC_Network_Filtered_Regions.bed'\n",
    "    sample_df.to_csv(file_name, sep='\\t', index=False, header = None)"
   ]
  },
  {
   "cell_type": "code",
   "execution_count": 55,
   "id": "6e890d39",
   "metadata": {},
   "outputs": [
    {
     "name": "stdout",
     "output_type": "stream",
     "text": [
      "Average length of Module: 1047.827392578125\n",
      "Unique Modules: 1628\n",
      "Unique Genes: 3133\n",
      "Gene to Modules ratio: 1.9244471744471745\n",
      "Counts per sample:\n",
      " 24h_sample    2569\n",
      "3h_sample     2469\n",
      "6h_sample     2362\n",
      "0h_sample     2327\n",
      "12h_sample    2281\n",
      "72h_sample    2242\n",
      "48h_sample    2134\n",
      "Name: Sample, dtype: int64\n",
      "Counts per sample as a percent:\n",
      " 24h_sample    15.679932\n",
      "3h_sample     15.069580\n",
      "6h_sample     14.416504\n",
      "0h_sample     14.202881\n",
      "12h_sample    13.922119\n",
      "72h_sample    13.684082\n",
      "48h_sample    13.024902\n",
      "Name: Sample, dtype: float64\n"
     ]
    }
   ],
   "source": [
    "# Report Network Statistics\n",
    "\n",
    "average_module_length = NW_Filtered['End'] - NW_Filtered['Start']\n",
    "average_module_length = average_module_length.mean()\n",
    "\n",
    "unique_modules = NW_Filtered['Module'].nunique()\n",
    "\n",
    "unique_genes = NW_Filtered['Gene'].nunique()\n",
    "\n",
    "gene_module_ratio = unique_genes / unique_modules\n",
    "\n",
    "sample_counts = NW_Filtered['Sample'].value_counts()\n",
    "\n",
    "sample_percentages = NW_Filtered['Sample'].value_counts(normalize = True) * 100\n",
    "\n",
    "print(\"Average length of Module:\", average_module_length)\n",
    "print(\"Unique Modules:\", unique_modules)\n",
    "print(\"Unique Genes:\", unique_genes)\n",
    "print(\"Gene to Modules ratio:\", gene_module_ratio)\n",
    "print(\"Counts per sample:\\n\", sample_counts)\n",
    "print(\"Counts per sample as a percent:\\n\", sample_percentages)"
   ]
  }
 ],
 "metadata": {
  "kernelspec": {
   "display_name": "Python 3 (ipykernel)",
   "language": "python",
   "name": "python3"
  },
  "language_info": {
   "codemirror_mode": {
    "name": "ipython",
    "version": 3
   },
   "file_extension": ".py",
   "mimetype": "text/x-python",
   "name": "python",
   "nbconvert_exporter": "python",
   "pygments_lexer": "ipython3",
   "version": "3.10.9"
  }
 },
 "nbformat": 4,
 "nbformat_minor": 5
}
